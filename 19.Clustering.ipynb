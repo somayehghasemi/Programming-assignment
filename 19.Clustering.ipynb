{
 "cells": [
  {
   "cell_type": "code",
   "execution_count": null,
   "metadata": {},
   "outputs": [],
   "source": [
    "import pandas as pd\n",
    "import numpy as np\n",
    "import matplotlib.pyplot as plt\n",
    "from sklearn.cluster import KMeans\n",
    "from sklearn.metrics import silhouette_samples, silhouette_score\n",
    "from sklearn.preprocessing import StandardScaler\n",
    "from sklearn.model_selection import train_test_split\n"
   ]
  },
  {
   "cell_type": "code",
   "execution_count": null,
   "metadata": {},
   "outputs": [],
   "source": [
    "df = pd.read_csv(\"market_seg.csv\")"
   ]
  },
  {
   "cell_type": "markdown",
   "metadata": {},
   "source": [
    "# Feature Eng"
   ]
  },
  {
   "cell_type": "code",
   "execution_count": null,
   "metadata": {},
   "outputs": [],
   "source": [
    "np.sum(df.isna())\n",
    "df.dropna(inplace = True)\n",
    "cancellation = df[\"InvoiceNo\"].str.contains(\"C\")\n",
    "df = df.loc[cancellation != True]\n",
    "df[\"InvoiceDate\"] = pd.to_datetime(df[\"InvoiceDate\"])\n",
    "today = pd.Timestamp(pd.Timestamp.now())\n",
    "df[\"Days\"] = df[\"InvoiceDate\"].agg(lambda x: (today-x).days)\n",
    "Recency = df.groupby(\"CustomerID\").Days.min()\n",
    "Frequency = df.groupby(\"CustomerID\").InvoiceNo.unique().agg(len)\n",
    "df[\"Cost\"] = df[\"Quantity\"] * df[\"UnitPrice\"]\n",
    "Monetary = df.groupby(\"CustomerID\").Cost.sum()\n",
    "Recency = pd.DataFrame(Recency)\n",
    "Frequency = pd.DataFrame(Frequency)\n",
    "Monetary = pd.DataFrame(Monetary)\n",
    "X = pd.concat((Recency, Frequency, Monetary), axis = 1)\n",
    "X.columns = [\"Recency\", \"Frequency\", \"Monetary\"]\n"
   ]
  },
  {
   "cell_type": "markdown",
   "metadata": {},
   "source": [
    "# outlier"
   ]
  },
  {
   "cell_type": "code",
   "execution_count": null,
   "metadata": {},
   "outputs": [],
   "source": []
  },
  {
   "cell_type": "markdown",
   "metadata": {},
   "source": [
    "# Clustering without scaling"
   ]
  },
  {
   "cell_type": "code",
   "execution_count": null,
   "metadata": {},
   "outputs": [],
   "source": [
    "n_clusters = 3\n",
    "kmeans = KMeans(n_clusters = n_clusters).fit(X)\n",
    "centroids = pd.DataFrame(kmeans.cluster_centers_, columns = X.columns)"
   ]
  },
  {
   "cell_type": "markdown",
   "metadata": {},
   "source": [
    "# Clustering with scaling"
   ]
  },
  {
   "cell_type": "code",
   "execution_count": null,
   "metadata": {},
   "outputs": [],
   "source": [
    "scaler = StandardScaler()\n",
    "X = scaler.fit_transform(X)\n",
    "X = pd.DataFrame(X, columns = [\"Recency\", \"Frequency\", \"Monetary\"])\n",
    "n_clusters = 3\n",
    "kmeans = KMeans(n_clusters = n_clusters).fit(X)\n",
    "centroids = pd.DataFrame(kmeans.cluster_centers_, columns = X.columns)\n",
    "labels = kmeans.labels_\n",
    "np.sum(silhouette_samples(X, labels) < 0) / X.shape[0]\n",
    "silhouette_score(X, labels)"
   ]
  },
  {
   "cell_type": "markdown",
   "metadata": {},
   "source": [
    "# elbow method"
   ]
  },
  {
   "cell_type": "code",
   "execution_count": null,
   "metadata": {},
   "outputs": [],
   "source": [
    "ssd = []\n",
    "for i in range(1, 11):\n",
    "    kmeans = KMeans(n_clusters = i).fit(X)\n",
    "    ssd.append(kmeans.inertia_)\n",
    "\n",
    "plt.plot(range(1, 11), ssd, c = \"r\", marker = \"o\")\n",
    "plt.ylabel(\"Sum Of Squarde Distance\")\n",
    "plt.xlabel(\"Number Of Clusters\")"
   ]
  }
 ],
 "metadata": {
  "kernelspec": {
   "display_name": "Python 3",
   "language": "python",
   "name": "python3"
  },
  "language_info": {
   "codemirror_mode": {
    "name": "ipython",
    "version": 3
   },
   "file_extension": ".py",
   "mimetype": "text/x-python",
   "name": "python",
   "nbconvert_exporter": "python",
   "pygments_lexer": "ipython3",
   "version": "3.7.4"
  }
 },
 "nbformat": 4,
 "nbformat_minor": 4
}
