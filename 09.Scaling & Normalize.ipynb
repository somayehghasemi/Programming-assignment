{
 "cells": [
  {
   "cell_type": "code",
   "execution_count": 1,
   "metadata": {},
   "outputs": [],
   "source": [
    "import numpy as np\n",
    "import pandas as pd\n",
    "from sklearn.preprocessing import StandardScaler,MinMaxScaler,scale"
   ]
  },
  {
   "cell_type": "code",
   "execution_count": 2,
   "metadata": {},
   "outputs": [
    {
     "data": {
      "text/html": [
       "<div>\n",
       "<style scoped>\n",
       "    .dataframe tbody tr th:only-of-type {\n",
       "        vertical-align: middle;\n",
       "    }\n",
       "\n",
       "    .dataframe tbody tr th {\n",
       "        vertical-align: top;\n",
       "    }\n",
       "\n",
       "    .dataframe thead th {\n",
       "        text-align: right;\n",
       "    }\n",
       "</style>\n",
       "<table border=\"1\" class=\"dataframe\">\n",
       "  <thead>\n",
       "    <tr style=\"text-align: right;\">\n",
       "      <th></th>\n",
       "      <th>Stature</th>\n",
       "      <th>Sitting Height</th>\n",
       "      <th>SHS</th>\n",
       "      <th>BMI</th>\n",
       "      <th>L11</th>\n",
       "      <th>H17</th>\n",
       "      <th>Weight</th>\n",
       "      <th>SeatX</th>\n",
       "    </tr>\n",
       "  </thead>\n",
       "  <tbody>\n",
       "    <tr>\n",
       "      <th>0</th>\n",
       "      <td>1740</td>\n",
       "      <td>931</td>\n",
       "      <td>0.535057</td>\n",
       "      <td>18.397410</td>\n",
       "      <td>-55</td>\n",
       "      <td>685</td>\n",
       "      <td>55.7</td>\n",
       "      <td>320.008170</td>\n",
       "    </tr>\n",
       "    <tr>\n",
       "      <th>1</th>\n",
       "      <td>1877</td>\n",
       "      <td>870</td>\n",
       "      <td>0.463506</td>\n",
       "      <td>22.593552</td>\n",
       "      <td>95</td>\n",
       "      <td>685</td>\n",
       "      <td>79.6</td>\n",
       "      <td>620.317771</td>\n",
       "    </tr>\n",
       "    <tr>\n",
       "      <th>2</th>\n",
       "      <td>1764</td>\n",
       "      <td>962</td>\n",
       "      <td>0.545351</td>\n",
       "      <td>22.881413</td>\n",
       "      <td>20</td>\n",
       "      <td>635</td>\n",
       "      <td>71.2</td>\n",
       "      <td>606.858170</td>\n",
       "    </tr>\n",
       "    <tr>\n",
       "      <th>3</th>\n",
       "      <td>1686</td>\n",
       "      <td>906</td>\n",
       "      <td>0.537367</td>\n",
       "      <td>29.444916</td>\n",
       "      <td>-55</td>\n",
       "      <td>685</td>\n",
       "      <td>83.7</td>\n",
       "      <td>660.937775</td>\n",
       "    </tr>\n",
       "    <tr>\n",
       "      <th>4</th>\n",
       "      <td>1786</td>\n",
       "      <td>933</td>\n",
       "      <td>0.522396</td>\n",
       "      <td>22.760076</td>\n",
       "      <td>95</td>\n",
       "      <td>685</td>\n",
       "      <td>72.6</td>\n",
       "      <td>615.836151</td>\n",
       "    </tr>\n",
       "  </tbody>\n",
       "</table>\n",
       "</div>"
      ],
      "text/plain": [
       "   Stature  Sitting Height       SHS        BMI  L11  H17  Weight       SeatX\n",
       "0     1740             931  0.535057  18.397410  -55  685    55.7  320.008170\n",
       "1     1877             870  0.463506  22.593552   95  685    79.6  620.317771\n",
       "2     1764             962  0.545351  22.881413   20  635    71.2  606.858170\n",
       "3     1686             906  0.537367  29.444916  -55  685    83.7  660.937775\n",
       "4     1786             933  0.522396  22.760076   95  685    72.6  615.836151"
      ]
     },
     "execution_count": 2,
     "metadata": {},
     "output_type": "execute_result"
    }
   ],
   "source": [
    "df=pd.read_csv('Seatdata.csv')\n",
    "df.head()"
   ]
  },
  {
   "cell_type": "code",
   "execution_count": 5,
   "metadata": {},
   "outputs": [
    {
     "name": "stdout",
     "output_type": "stream",
     "text": [
      "Variable         Type         Data/Info\n",
      "---------------------------------------\n",
      "MinMaxScaler     type         <class 'sklearn.preproces<...>sing._data.MinMaxScaler'>\n",
      "StandardScaler   type         <class 'sklearn.preproces<...>ng._data.StandardScaler'>\n",
      "df               DataFrame         Stature  Sitting Hei<...>n\\n[399 rows x 8 columns]\n",
      "np               module       <module 'numpy' from '/Us<...>kages/numpy/__init__.py'>\n",
      "pd               module       <module 'pandas' from '/U<...>ages/pandas/__init__.py'>\n"
     ]
    }
   ],
   "source": [
    "%whos"
   ]
  },
  {
   "cell_type": "code",
   "execution_count": 6,
   "metadata": {},
   "outputs": [],
   "source": [
    "X=df.iloc[:,:-1]"
   ]
  },
  {
   "cell_type": "code",
   "execution_count": 9,
   "metadata": {},
   "outputs": [],
   "source": [
    "stand_scaler=StandardScaler()\n",
    "minmax_scaler=MinMaxScaler()"
   ]
  },
  {
   "cell_type": "code",
   "execution_count": 10,
   "metadata": {},
   "outputs": [
    {
     "data": {
      "text/plain": [
       "array([[ 0.07574224,  0.64171003,  0.39948172, ..., -1.1869275 ,\n",
       "         1.1810178 , -1.70356371],\n",
       "       [ 1.88927614, -0.73171421, -1.68946235, ...,  1.20491125,\n",
       "         1.1810178 ,  0.09831232],\n",
       "       [ 0.39344161,  1.33967972,  0.70001327, ...,  0.00899188,\n",
       "        -0.01498754, -0.53498302],\n",
       "       ...,\n",
       "       [ 1.79661382, -0.23638088, -1.29533948, ...,  1.20491125,\n",
       "         1.1810178 ,  0.92008841],\n",
       "       [-0.22871966, -0.84428996, -0.51349275, ...,  0.00899188,\n",
       "        -0.01498754, -1.22105297],\n",
       "       [ 1.2538774 ,  0.52913427, -0.44044977, ..., -1.1869275 ,\n",
       "        -1.21099287, -0.36911996]])"
      ]
     },
     "execution_count": 10,
     "metadata": {},
     "output_type": "execute_result"
    }
   ],
   "source": [
    "X1=stand_scaler.fit_transform(X)\n",
    "X1"
   ]
  },
  {
   "cell_type": "code",
   "execution_count": 11,
   "metadata": {},
   "outputs": [
    {
     "data": {
      "text/plain": [
       "array([[0.51473923, 0.6123348 , 0.54808646, ..., 0.        , 1.        ,\n",
       "        0.26708075],\n",
       "       [0.82539683, 0.34361233, 0.19474295, ..., 1.        , 1.        ,\n",
       "        0.56397516],\n",
       "       [0.569161  , 0.74889868, 0.59892117, ..., 0.5       , 0.5       ,\n",
       "        0.45962733],\n",
       "       ...,\n",
       "       [0.80952381, 0.44052863, 0.26140857, ..., 1.        , 1.        ,\n",
       "        0.69937888],\n",
       "       [0.46258503, 0.3215859 , 0.39365743, ..., 0.5       , 0.5       ,\n",
       "        0.34658385],\n",
       "       [0.71655329, 0.59030837, 0.4060126 , ..., 0.        , 0.        ,\n",
       "        0.48695652]])"
      ]
     },
     "execution_count": 11,
     "metadata": {},
     "output_type": "execute_result"
    }
   ],
   "source": [
    "X2=minmax_scaler.fit_transform(X)\n",
    "X2"
   ]
  },
  {
   "cell_type": "code",
   "execution_count": 14,
   "metadata": {},
   "outputs": [
    {
     "data": {
      "text/plain": [
       "array([[ 0.07574224,  0.64171003,  0.39948172, ..., -1.1869275 ,\n",
       "         1.1810178 , -1.70356371],\n",
       "       [ 1.88927614, -0.73171421, -1.68946235, ...,  1.20491125,\n",
       "         1.1810178 ,  0.09831232],\n",
       "       [ 0.39344161,  1.33967972,  0.70001327, ...,  0.00899188,\n",
       "        -0.01498754, -0.53498302],\n",
       "       ...,\n",
       "       [ 1.79661382, -0.23638088, -1.29533948, ...,  1.20491125,\n",
       "         1.1810178 ,  0.92008841],\n",
       "       [-0.22871966, -0.84428996, -0.51349275, ...,  0.00899188,\n",
       "        -0.01498754, -1.22105297],\n",
       "       [ 1.2538774 ,  0.52913427, -0.44044977, ..., -1.1869275 ,\n",
       "        -1.21099287, -0.36911996]])"
      ]
     },
     "execution_count": 14,
     "metadata": {},
     "output_type": "execute_result"
    }
   ],
   "source": [
    "X3=scale(X)\n",
    "X3"
   ]
  },
  {
   "cell_type": "code",
   "execution_count": 15,
   "metadata": {},
   "outputs": [
    {
     "name": "stdout",
     "output_type": "stream",
     "text": [
      "Variable         Type              Data/Info\n",
      "--------------------------------------------\n",
      "MinMaxScaler     type              <class 'sklearn.preproces<...>sing._data.MinMaxScaler'>\n",
      "StandardScaler   type              <class 'sklearn.preproces<...>ng._data.StandardScaler'>\n",
      "X                DataFrame              Stature  Sitting Hei<...>n\\n[399 rows x 7 columns]\n",
      "X1               ndarray           399x7: 2793 elems, type `float64`, 22344 bytes\n",
      "X2               ndarray           399x7: 2793 elems, type `float64`, 22344 bytes\n",
      "X3               ndarray           399x7: 2793 elems, type `float64`, 22344 bytes\n",
      "df               DataFrame              Stature  Sitting Hei<...>n\\n[399 rows x 8 columns]\n",
      "minmax_scaler    MinMaxScaler      MinMaxScaler()\n",
      "np               module            <module 'numpy' from '/Us<...>kages/numpy/__init__.py'>\n",
      "pd               module            <module 'pandas' from '/U<...>ages/pandas/__init__.py'>\n",
      "scale            function          <function scale at 0x11845b9d0>\n",
      "stand_scaler     StandardScaler    StandardScaler()\n"
     ]
    }
   ],
   "source": [
    "%whos"
   ]
  },
  {
   "cell_type": "code",
   "execution_count": null,
   "metadata": {},
   "outputs": [],
   "source": []
  }
 ],
 "metadata": {
  "kernelspec": {
   "display_name": "Python 3 (ipykernel)",
   "language": "python",
   "name": "python3"
  },
  "language_info": {
   "codemirror_mode": {
    "name": "ipython",
    "version": 3
   },
   "file_extension": ".py",
   "mimetype": "text/x-python",
   "name": "python",
   "nbconvert_exporter": "python",
   "pygments_lexer": "ipython3",
   "version": "3.10.8"
  }
 },
 "nbformat": 4,
 "nbformat_minor": 4
}
