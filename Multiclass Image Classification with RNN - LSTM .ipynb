{
 "cells": [
  {
   "cell_type": "code",
   "execution_count": 2,
   "id": "47f05cfd",
   "metadata": {},
   "outputs": [],
   "source": [
    "import tensorflow as tf\n",
    "import numpy as np                      \n",
    "import pandas as pd                     \n",
    "import matplotlib.pyplot as plt         \n",
    "import seaborn as sns   "
   ]
  },
  {
   "cell_type": "markdown",
   "id": "671dcd71",
   "metadata": {},
   "source": [
    "# Data Preprocessing"
   ]
  },
  {
   "cell_type": "code",
   "execution_count": 3,
   "id": "7bc7d218",
   "metadata": {},
   "outputs": [],
   "source": [
    "from tensorflow.keras.datasets import mnist"
   ]
  },
  {
   "cell_type": "code",
   "execution_count": 4,
   "id": "95a4611a",
   "metadata": {},
   "outputs": [
    {
     "name": "stdout",
     "output_type": "stream",
     "text": [
      "Downloading data from https://storage.googleapis.com/tensorflow/tf-keras-datasets/mnist.npz\n",
      "11490434/11490434 [==============================] - 5s 0us/step\n"
     ]
    }
   ],
   "source": [
    "(X_train, y_train), (X_test, y_test) = mnist.load_data()"
   ]
  },
  {
   "cell_type": "code",
   "execution_count": 5,
   "id": "2d01cdfe",
   "metadata": {},
   "outputs": [
    {
     "data": {
      "text/plain": [
       "((60000, 28, 28), (10000, 28, 28))"
      ]
     },
     "execution_count": 5,
     "metadata": {},
     "output_type": "execute_result"
    }
   ],
   "source": [
    "X_train.shape , X_test.shape"
   ]
  },
  {
   "cell_type": "code",
   "execution_count": 6,
   "id": "85be9153",
   "metadata": {},
   "outputs": [
    {
     "data": {
      "text/plain": [
       "((60000,), (10000,))"
      ]
     },
     "execution_count": 6,
     "metadata": {},
     "output_type": "execute_result"
    }
   ],
   "source": [
    "y_train.shape , y_test.shape"
   ]
  },
  {
   "cell_type": "code",
   "execution_count": 7,
   "id": "fc7b7c5a",
   "metadata": {},
   "outputs": [
    {
     "data": {
      "text/plain": [
       "(0, 255)"
      ]
     },
     "execution_count": 7,
     "metadata": {},
     "output_type": "execute_result"
    }
   ],
   "source": [
    "X_train.min() , X_test.max()"
   ]
  },
  {
   "cell_type": "code",
   "execution_count": 8,
   "id": "5f7e4ddc",
   "metadata": {},
   "outputs": [
    {
     "data": {
      "text/plain": [
       "(0, 9)"
      ]
     },
     "execution_count": 8,
     "metadata": {},
     "output_type": "execute_result"
    }
   ],
   "source": [
    "y_train.min() , y_test.max()"
   ]
  },
  {
   "cell_type": "code",
   "execution_count": 9,
   "id": "944befbf",
   "metadata": {},
   "outputs": [],
   "source": [
    "#Normalize\n",
    "X_train = X_train / 255\n",
    "X_test = X_test / 255"
   ]
  },
  {
   "cell_type": "code",
   "execution_count": 10,
   "id": "7c133b5f",
   "metadata": {},
   "outputs": [
    {
     "data": {
      "text/plain": [
       "(0.0, 1.0)"
      ]
     },
     "execution_count": 10,
     "metadata": {},
     "output_type": "execute_result"
    }
   ],
   "source": [
    "X_train.min() , X_test.max()"
   ]
  },
  {
   "cell_type": "code",
   "execution_count": 12,
   "id": "3ff6bced",
   "metadata": {},
   "outputs": [
    {
     "data": {
      "text/plain": [
       "<matplotlib.image.AxesImage at 0x1641d1450>"
      ]
     },
     "execution_count": 12,
     "metadata": {},
     "output_type": "execute_result"
    },
    {
     "data": {
      "image/png": "[encoded data removed]",
      "text/plain": [
       "<Figure size 640x480 with 1 Axes>"
      ]
     },
     "metadata": {},
     "output_type": "display_data"
    }
   ],
   "source": [
    "plt.imshow(X_train[5], cmap = \"gray\")"
   ]
  },
  {
   "cell_type": "code",
   "execution_count": 13,
   "id": "9e4a933d",
   "metadata": {},
   "outputs": [
    {
     "data": {
      "text/plain": [
       "2"
      ]
     },
     "execution_count": 13,
     "metadata": {},
     "output_type": "execute_result"
    }
   ],
   "source": [
    "y_train[5]"
   ]
  },
  {
   "cell_type": "markdown",
   "id": "3a177f29",
   "metadata": {},
   "source": [
    "# Build Model"
   ]
  },
  {
   "cell_type": "code",
   "execution_count": 19,
   "id": "d2d9da25",
   "metadata": {},
   "outputs": [],
   "source": [
    "model = tf.keras.models.Sequential()"
   ]
  },
  {
   "cell_type": "code",
   "execution_count": 25,
   "id": "f8b1ad6f",
   "metadata": {},
   "outputs": [],
   "source": [
    "model.add (tf.keras.layers.LSTM (units = 128, activation=\"relu\", return_sequences = True, input_shape = (28,28)))\n",
    "model.add (tf.keras.layers.Dropout(0.2))\n",
    "model.add (tf.keras.layers.LSTM (units = 128, activation=\"relu\"))\n",
    "model.add (tf.keras.layers.Dropout(0.2))\n",
    "model.add(tf.keras.layers.Dense(units = 32 , activation=\"relu\"))\n",
    "model.add (tf.keras.layers.Dropout(0.2))\n",
    "model.add(tf.keras.layers.Dense(units = 10 , activation=\"softmax\"))          "
   ]
  },
  {
   "cell_type": "code",
   "execution_count": 26,
   "id": "d3450ce4",
   "metadata": {},
   "outputs": [
    {
     "name": "stdout",
     "output_type": "stream",
     "text": [
      "Model: \"sequential_2\"\n",
      "_________________________________________________________________\n",
      " Layer (type)                Output Shape              Param #   \n",
      "=================================================================\n",
      " lstm_1 (LSTM)               (None, 28, 128)           80384     \n",
      "                                                                 \n",
      " dropout (Dropout)           (None, 28, 128)           0         \n",
      "                                                                 \n",
      " lstm_2 (LSTM)               (None, 128)               131584    \n",
      "                                                                 \n",
      " dropout_1 (Dropout)         (None, 128)               0         \n",
      "                                                                 \n",
      " dense (Dense)               (None, 32)                4128      \n",
      "                                                                 \n",
      " dropout_2 (Dropout)         (None, 32)                0         \n",
      "                                                                 \n",
      " dense_1 (Dense)             (None, 10)                330       \n",
      "                                                                 \n",
      "=================================================================\n",
      "Total params: 216,426\n",
      "Trainable params: 216,426\n",
      "Non-trainable params: 0\n",
      "_________________________________________________________________\n"
     ]
    }
   ],
   "source": [
    "model.summary()"
   ]
  },
  {
   "cell_type": "code",
   "execution_count": 29,
   "id": "622643f6",
   "metadata": {},
   "outputs": [],
   "source": [
    "opt = tf.keras.optimizers.Adam(learning_rate = 0.001) \n",
    "model.compile(optimizer = opt, loss = 'sparse_categorical_crossentropy', metrics = ['accuracy'])"
   ]
  },
  {
   "cell_type": "markdown",
   "id": "af6fa4de",
   "metadata": {},
   "source": [
    "# Train Model"
   ]
  },
  {
   "cell_type": "code",
   "execution_count": 30,
   "id": "9f303708",
   "metadata": {},
   "outputs": [
    {
     "name": "stdout",
     "output_type": "stream",
     "text": [
      "Epoch 1/10\n",
      "1875/1875 [==============================] - 109s 57ms/step - loss: 0.5426 - accuracy: 0.8242 - val_loss: 0.1387 - val_accuracy: 0.9532\n",
      "Epoch 2/10\n",
      "1875/1875 [==============================] - 105s 56ms/step - loss: 0.1545 - accuracy: 0.9596 - val_loss: 0.0964 - val_accuracy: 0.9726\n",
      "Epoch 3/10\n",
      "1875/1875 [==============================] - 101s 54ms/step - loss: 0.1130 - accuracy: 0.9711 - val_loss: 0.0731 - val_accuracy: 0.9782\n",
      "Epoch 4/10\n",
      "1875/1875 [==============================] - 100s 53ms/step - loss: 0.0879 - accuracy: 0.9765 - val_loss: 0.0637 - val_accuracy: 0.9815\n",
      "Epoch 5/10\n",
      "1875/1875 [==============================] - 101s 54ms/step - loss: 0.0695 - accuracy: 0.9816 - val_loss: 0.0460 - val_accuracy: 0.9859\n",
      "Epoch 6/10\n",
      "1875/1875 [==============================] - 104s 55ms/step - loss: 0.0611 - accuracy: 0.9841 - val_loss: 0.0508 - val_accuracy: 0.9876\n",
      "Epoch 7/10\n",
      "1875/1875 [==============================] - 102s 54ms/step - loss: 0.0509 - accuracy: 0.9870 - val_loss: 0.0694 - val_accuracy: 0.9826\n",
      "Epoch 8/10\n",
      "1875/1875 [==============================] - 117s 62ms/step - loss: 0.0456 - accuracy: 0.9879 - val_loss: 0.0559 - val_accuracy: 0.9834\n",
      "Epoch 9/10\n",
      "1875/1875 [==============================] - 108s 58ms/step - loss: 0.0438 - accuracy: 0.9883 - val_loss: 0.0377 - val_accuracy: 0.9893\n",
      "Epoch 10/10\n",
      "1875/1875 [==============================] - 113s 60ms/step - loss: 0.0361 - accuracy: 0.9905 - val_loss: 0.0392 - val_accuracy: 0.9894\n"
     ]
    }
   ],
   "source": [
    "history = model.fit (X_train, y_train, epochs = 10, validation_data = (X_test, y_test))"
   ]
  },
  {
   "cell_type": "markdown",
   "id": "2781d9db",
   "metadata": {},
   "source": [
    "# Prediction"
   ]
  },
  {
   "cell_type": "code",
   "execution_count": 31,
   "id": "f6fd6230",
   "metadata": {},
   "outputs": [
    {
     "name": "stdout",
     "output_type": "stream",
     "text": [
      "313/313 [==============================] - 7s 20ms/step\n"
     ]
    },
    {
     "data": {
      "text/plain": [
       "array([[9.98655557e-21, 4.21909469e-12, 1.72315124e-12, ...,\n",
       "        1.00000000e+00, 5.89239825e-14, 9.17842158e-09],\n",
       "       [6.97434668e-21, 6.32545741e-21, 1.00000000e+00, ...,\n",
       "        5.81553983e-20, 3.79012218e-21, 1.28584027e-28],\n",
       "       [1.80036239e-26, 1.00000000e+00, 4.93478769e-15, ...,\n",
       "        5.04508917e-16, 4.82681692e-17, 5.86019362e-19],\n",
       "       ...,\n",
       "       [0.00000000e+00, 2.85690329e-33, 1.93513110e-38, ...,\n",
       "        5.58073176e-27, 6.84619518e-33, 8.98364157e-20],\n",
       "       [6.73214693e-16, 2.30157097e-14, 1.22292415e-14, ...,\n",
       "        1.15780421e-17, 1.94437693e-08, 9.36402900e-11],\n",
       "       [1.11642097e-12, 4.74902040e-21, 5.54816152e-15, ...,\n",
       "        9.07555678e-24, 6.99682831e-16, 2.70432323e-27]], dtype=float32)"
      ]
     },
     "execution_count": 31,
     "metadata": {},
     "output_type": "execute_result"
    }
   ],
   "source": [
    "y_pred = model.predict(X_test)\n",
    "y_pred"
   ]
  },
  {
   "cell_type": "code",
   "execution_count": 32,
   "id": "56727049",
   "metadata": {},
   "outputs": [
    {
     "data": {
      "text/plain": [
       "array([7, 2, 1, ..., 4, 5, 6])"
      ]
     },
     "execution_count": 32,
     "metadata": {},
     "output_type": "execute_result"
    }
   ],
   "source": [
    "y_pred = np.argmax(y_pred, axis = 1)\n",
    "y_pred"
   ]
  },
  {
   "cell_type": "code",
   "execution_count": 33,
   "id": "22b27eff",
   "metadata": {},
   "outputs": [
    {
     "data": {
      "text/plain": [
       "98.94"
      ]
     },
     "execution_count": 33,
     "metadata": {},
     "output_type": "execute_result"
    }
   ],
   "source": [
    "from sklearn.metrics import accuracy_score\n",
    "accuracy_score(y_test, y_pred) * 100"
   ]
  },
  {
   "cell_type": "code",
   "execution_count": 34,
   "id": "557ae9a9",
   "metadata": {},
   "outputs": [
    {
     "data": {
      "text/plain": [
       "array([[ 975,    0,    0,    0,    0,    0,    4,    1,    0,    0],\n",
       "       [   0, 1134,    0,    0,    0,    1,    0,    0,    0,    0],\n",
       "       [   4,    4, 1015,    0,    1,    0,    0,    6,    2,    0],\n",
       "       [   0,    1,    2,  996,    0,    6,    0,    5,    0,    0],\n",
       "       [   0,    1,    0,    0,  960,    0,    1,    0,    0,   20],\n",
       "       [   0,    1,    1,    2,    0,  886,    1,    0,    0,    1],\n",
       "       [   1,    3,    0,    0,    0,    2,  950,    0,    2,    0],\n",
       "       [   0,    4,    0,    0,    1,    0,    0, 1021,    0,    2],\n",
       "       [   1,    1,    1,    2,    2,    4,    1,    2,  957,    3],\n",
       "       [   0,    0,    0,    0,    4,    0,    0,    4,    1, 1000]])"
      ]
     },
     "execution_count": 34,
     "metadata": {},
     "output_type": "execute_result"
    }
   ],
   "source": [
    "from sklearn.metrics import confusion_matrix , accuracy_score\n",
    "confusion_matrix(y_test, y_pred)"
   ]
  },
  {
   "cell_type": "markdown",
   "id": "4f796fca",
   "metadata": {},
   "source": [
    "# Curve"
   ]
  },
  {
   "cell_type": "code",
   "execution_count": 35,
   "id": "e7880a16",
   "metadata": {},
   "outputs": [],
   "source": [
    "def learning_curve(history,epoch):\n",
    "    epoch_range = range (1,epoch+1)\n",
    "    plt.plot(epoch_range,history.history['accuracy'])\n",
    "    plt.plot(epoch_range,history.history['val_accuracy'])\n",
    "    plt.ylabel('accuracy')\n",
    "    plt.xlabel('epoch')\n",
    "    plt.legend(['train', 'test'], loc = 'upper left')\n",
    "    plt.title('Base Model: Accuracy - Epochs')\n",
    "    plt.show()\n",
    "    \n",
    "    \n",
    "    plt.plot(epoch_range,history.history['loss'])\n",
    "    plt.plot(epoch_range,history.history['val_loss'])\n",
    "    plt.ylabel('loss')\n",
    "    plt.xlabel('epoch')\n",
    "    plt.legend(['train', 'test'], loc = 'upper left')\n",
    "    plt.title('Base Model: Loss - Epochs')\n",
    "    plt.show()\n",
    "\n"
   ]
  },
  {
   "cell_type": "code",
   "execution_count": 36,
   "id": "f669cf8a",
   "metadata": {},
   "outputs": [
    {
     "data": {
      "image/png": "[encoded data removed]",
      "text/plain": [
       "<Figure size 640x480 with 1 Axes>"
      ]
     },
     "metadata": {},
     "output_type": "display_data"
    },
    {
     "data": {
      "image/png": "[encoded data removed]",
      "text/plain": [
       "<Figure size 640x480 with 1 Axes>"
      ]
     },
     "metadata": {},
     "output_type": "display_data"
    }
   ],
   "source": [
    "learning_curve(history,10)"
   ]
  },
  {
   "cell_type": "code",
   "execution_count": null,
   "id": "ba3a575c",
   "metadata": {},
   "outputs": [],
   "source": []
  },
  {
   "cell_type": "code",
   "execution_count": null,
   "id": "6d06cc40",
   "metadata": {},
   "outputs": [],
   "source": []
  },
  {
   "cell_type": "code",
   "execution_count": null,
   "id": "711f1753",
   "metadata": {},
   "outputs": [],
   "source": []
  },
  {
   "cell_type": "code",
   "execution_count": null,
   "id": "69994aa8",
   "metadata": {},
   "outputs": [],
   "source": []
  },
  {
   "cell_type": "code",
   "execution_count": null,
   "id": "3f1135fd",
   "metadata": {},
   "outputs": [],
   "source": []
  },
  {
   "cell_type": "code",
   "execution_count": null,
   "id": "a09a5b95",
   "metadata": {},
   "outputs": [],
   "source": []
  },
  {
   "cell_type": "code",
   "execution_count": null,
   "id": "83025001",
   "metadata": {},
   "outputs": [],
   "source": []
  }
 ],
 "metadata": {
  "kernelspec": {
   "display_name": "Python 3 (ipykernel)",
   "language": "python",
   "name": "python3"
  },
  "language_info": {
   "codemirror_mode": {
    "name": "ipython",
    "version": 3
   },
   "file_extension": ".py",
   "mimetype": "text/x-python",
   "name": "python",
   "nbconvert_exporter": "python",
   "pygments_lexer": "ipython3",
   "version": "3.10.8"
  }
 },
 "nbformat": 4,
 "nbformat_minor": 5
}
