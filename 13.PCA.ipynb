{
 "cells": [
  {
   "cell_type": "code",
   "execution_count": 1,
   "metadata": {},
   "outputs": [],
   "source": [
    "%matplotlib inline\n",
    "import matplotlib.pyplot as plt\n",
    "import pandas as pd\n",
    "import numpy as np\n",
    "from sklearn.preprocessing import scale\n",
    "from sklearn.decomposition import PCA"
   ]
  },
  {
   "cell_type": "code",
   "execution_count": 2,
   "metadata": {},
   "outputs": [
    {
     "data": {
      "text/html": [
       "<div>\n",
       "<style scoped>\n",
       "    .dataframe tbody tr th:only-of-type {\n",
       "        vertical-align: middle;\n",
       "    }\n",
       "\n",
       "    .dataframe tbody tr th {\n",
       "        vertical-align: top;\n",
       "    }\n",
       "\n",
       "    .dataframe thead th {\n",
       "        text-align: right;\n",
       "    }\n",
       "</style>\n",
       "<table border=\"1\" class=\"dataframe\">\n",
       "  <thead>\n",
       "    <tr style=\"text-align: right;\">\n",
       "      <th></th>\n",
       "      <th>100</th>\n",
       "      <th>200</th>\n",
       "      <th>400</th>\n",
       "      <th>800</th>\n",
       "      <th>1500</th>\n",
       "      <th>5000</th>\n",
       "      <th>10,000</th>\n",
       "      <th>Marathon</th>\n",
       "      <th>Country</th>\n",
       "    </tr>\n",
       "  </thead>\n",
       "  <tbody>\n",
       "    <tr>\n",
       "      <th>0</th>\n",
       "      <td>10.39</td>\n",
       "      <td>20.81</td>\n",
       "      <td>46.84</td>\n",
       "      <td>1.81</td>\n",
       "      <td>3.70</td>\n",
       "      <td>14.04</td>\n",
       "      <td>29.36</td>\n",
       "      <td>137.72</td>\n",
       "      <td>argentin</td>\n",
       "    </tr>\n",
       "    <tr>\n",
       "      <th>1</th>\n",
       "      <td>10.31</td>\n",
       "      <td>20.06</td>\n",
       "      <td>44.84</td>\n",
       "      <td>1.74</td>\n",
       "      <td>3.57</td>\n",
       "      <td>13.28</td>\n",
       "      <td>27.66</td>\n",
       "      <td>128.30</td>\n",
       "      <td>australi</td>\n",
       "    </tr>\n",
       "    <tr>\n",
       "      <th>2</th>\n",
       "      <td>10.44</td>\n",
       "      <td>20.81</td>\n",
       "      <td>46.82</td>\n",
       "      <td>1.79</td>\n",
       "      <td>3.60</td>\n",
       "      <td>13.26</td>\n",
       "      <td>27.72</td>\n",
       "      <td>135.90</td>\n",
       "      <td>austria</td>\n",
       "    </tr>\n",
       "    <tr>\n",
       "      <th>3</th>\n",
       "      <td>10.34</td>\n",
       "      <td>20.68</td>\n",
       "      <td>45.04</td>\n",
       "      <td>1.73</td>\n",
       "      <td>3.60</td>\n",
       "      <td>13.22</td>\n",
       "      <td>27.45</td>\n",
       "      <td>129.95</td>\n",
       "      <td>belgium</td>\n",
       "    </tr>\n",
       "    <tr>\n",
       "      <th>4</th>\n",
       "      <td>10.28</td>\n",
       "      <td>20.58</td>\n",
       "      <td>45.91</td>\n",
       "      <td>1.80</td>\n",
       "      <td>3.75</td>\n",
       "      <td>14.68</td>\n",
       "      <td>30.55</td>\n",
       "      <td>146.62</td>\n",
       "      <td>bermuda</td>\n",
       "    </tr>\n",
       "  </tbody>\n",
       "</table>\n",
       "</div>"
      ],
      "text/plain": [
       "     100    200    400   800  1500   5000  10,000  Marathon   Country\n",
       "0  10.39  20.81  46.84  1.81  3.70  14.04   29.36    137.72  argentin\n",
       "1  10.31  20.06  44.84  1.74  3.57  13.28   27.66    128.30  australi\n",
       "2  10.44  20.81  46.82  1.79  3.60  13.26   27.72    135.90   austria\n",
       "3  10.34  20.68  45.04  1.73  3.60  13.22   27.45    129.95   belgium\n",
       "4  10.28  20.58  45.91  1.80  3.75  14.68   30.55    146.62   bermuda"
      ]
     },
     "execution_count": 2,
     "metadata": {},
     "output_type": "execute_result"
    }
   ],
   "source": [
    "df = pd.read_csv(\"men-track-records.csv\")\n",
    "df.head()"
   ]
  },
  {
   "cell_type": "code",
   "execution_count": 7,
   "metadata": {},
   "outputs": [
    {
     "data": {
      "text/plain": [
       "(55, 9)"
      ]
     },
     "execution_count": 7,
     "metadata": {},
     "output_type": "execute_result"
    }
   ],
   "source": [
    "df.shape"
   ]
  },
  {
   "cell_type": "code",
   "execution_count": 3,
   "metadata": {},
   "outputs": [],
   "source": [
    "X=df.iloc[:,:-1]"
   ]
  },
  {
   "cell_type": "code",
   "execution_count": 4,
   "metadata": {},
   "outputs": [
    {
     "data": {
      "text/html": [
       "<div>\n",
       "<style scoped>\n",
       "    .dataframe tbody tr th:only-of-type {\n",
       "        vertical-align: middle;\n",
       "    }\n",
       "\n",
       "    .dataframe tbody tr th {\n",
       "        vertical-align: top;\n",
       "    }\n",
       "\n",
       "    .dataframe thead th {\n",
       "        text-align: right;\n",
       "    }\n",
       "</style>\n",
       "<table border=\"1\" class=\"dataframe\">\n",
       "  <thead>\n",
       "    <tr style=\"text-align: right;\">\n",
       "      <th></th>\n",
       "      <th>100</th>\n",
       "      <th>200</th>\n",
       "      <th>400</th>\n",
       "      <th>800</th>\n",
       "      <th>1500</th>\n",
       "      <th>5000</th>\n",
       "      <th>10,000</th>\n",
       "      <th>Marathon</th>\n",
       "    </tr>\n",
       "  </thead>\n",
       "  <tbody>\n",
       "    <tr>\n",
       "      <th>0</th>\n",
       "      <td>-0.232873</td>\n",
       "      <td>-0.204089</td>\n",
       "      <td>0.277945</td>\n",
       "      <td>0.265078</td>\n",
       "      <td>0.011769</td>\n",
       "      <td>0.244610</td>\n",
       "      <td>0.207070</td>\n",
       "      <td>0.119876</td>\n",
       "    </tr>\n",
       "    <tr>\n",
       "      <th>1</th>\n",
       "      <td>-0.462613</td>\n",
       "      <td>-1.378238</td>\n",
       "      <td>-1.107373</td>\n",
       "      <td>-0.844216</td>\n",
       "      <td>-0.829733</td>\n",
       "      <td>-0.712758</td>\n",
       "      <td>-0.742002</td>\n",
       "      <td>-0.910447</td>\n",
       "    </tr>\n",
       "    <tr>\n",
       "      <th>2</th>\n",
       "      <td>-0.089285</td>\n",
       "      <td>-0.204089</td>\n",
       "      <td>0.264092</td>\n",
       "      <td>-0.051863</td>\n",
       "      <td>-0.635540</td>\n",
       "      <td>-0.737951</td>\n",
       "      <td>-0.708506</td>\n",
       "      <td>-0.079188</td>\n",
       "    </tr>\n",
       "    <tr>\n",
       "      <th>3</th>\n",
       "      <td>-0.376460</td>\n",
       "      <td>-0.407608</td>\n",
       "      <td>-0.968841</td>\n",
       "      <td>-1.002686</td>\n",
       "      <td>-0.635540</td>\n",
       "      <td>-0.788339</td>\n",
       "      <td>-0.859241</td>\n",
       "      <td>-0.729976</td>\n",
       "    </tr>\n",
       "    <tr>\n",
       "      <th>4</th>\n",
       "      <td>-0.548765</td>\n",
       "      <td>-0.564161</td>\n",
       "      <td>-0.366228</td>\n",
       "      <td>0.106607</td>\n",
       "      <td>0.335424</td>\n",
       "      <td>1.050814</td>\n",
       "      <td>0.871421</td>\n",
       "      <td>1.093323</td>\n",
       "    </tr>\n",
       "  </tbody>\n",
       "</table>\n",
       "</div>"
      ],
      "text/plain": [
       "        100       200       400       800      1500      5000    10,000  \\\n",
       "0 -0.232873 -0.204089  0.277945  0.265078  0.011769  0.244610  0.207070   \n",
       "1 -0.462613 -1.378238 -1.107373 -0.844216 -0.829733 -0.712758 -0.742002   \n",
       "2 -0.089285 -0.204089  0.264092 -0.051863 -0.635540 -0.737951 -0.708506   \n",
       "3 -0.376460 -0.407608 -0.968841 -1.002686 -0.635540 -0.788339 -0.859241   \n",
       "4 -0.548765 -0.564161 -0.366228  0.106607  0.335424  1.050814  0.871421   \n",
       "\n",
       "   Marathon  \n",
       "0  0.119876  \n",
       "1 -0.910447  \n",
       "2 -0.079188  \n",
       "3 -0.729976  \n",
       "4  1.093323  "
      ]
     },
     "execution_count": 4,
     "metadata": {},
     "output_type": "execute_result"
    }
   ],
   "source": [
    "X=scale(X)\n",
    "X=pd.DataFrame(X,columns=df.columns[:-1])\n",
    "X.head()"
   ]
  },
  {
   "cell_type": "code",
   "execution_count": 5,
   "metadata": {},
   "outputs": [
    {
     "data": {
      "text/plain": [
       "Index(['100', '200', '400', '800', '1500', '5000', '10,000', 'Marathon'], dtype='object')"
      ]
     },
     "execution_count": 5,
     "metadata": {},
     "output_type": "execute_result"
    }
   ],
   "source": [
    "columns=df.columns[:-1]\n",
    "columns"
   ]
  },
  {
   "cell_type": "code",
   "execution_count": 5,
   "metadata": {},
   "outputs": [],
   "source": [
    "pca=PCA()"
   ]
  },
  {
   "cell_type": "code",
   "execution_count": 6,
   "metadata": {},
   "outputs": [
    {
     "data": {
      "text/plain": [
       "PCA()"
      ]
     },
     "execution_count": 6,
     "metadata": {},
     "output_type": "execute_result"
    }
   ],
   "source": [
    "pca.fit(X)"
   ]
  },
  {
   "cell_type": "code",
   "execution_count": 7,
   "metadata": {},
   "outputs": [],
   "source": [
    "pc_scores=pca.fit_transform(X)"
   ]
  },
  {
   "cell_type": "code",
   "execution_count": 8,
   "metadata": {},
   "outputs": [],
   "source": [
    "w=pca.components_"
   ]
  },
  {
   "cell_type": "code",
   "execution_count": 10,
   "metadata": {},
   "outputs": [
    {
     "data": {
      "text/plain": [
       "array([6.74477847, 0.89387048, 0.16227153, 0.1263466 , 0.08135954,\n",
       "       0.06922376, 0.04727915, 0.02301862])"
      ]
     },
     "execution_count": 10,
     "metadata": {},
     "output_type": "execute_result"
    }
   ],
   "source": [
    "pca.explained_variance_"
   ]
  },
  {
   "cell_type": "code",
   "execution_count": 9,
   "metadata": {},
   "outputs": [
    {
     "data": {
      "text/plain": [
       "array([0.82776827, 0.10970229, 0.01991514, 0.01550617, 0.00998503,\n",
       "       0.00849564, 0.00580244, 0.00282501])"
      ]
     },
     "execution_count": 9,
     "metadata": {},
     "output_type": "execute_result"
    }
   ],
   "source": [
    "pca.explained_variance_ratio_"
   ]
  },
  {
   "cell_type": "code",
   "execution_count": 11,
   "metadata": {},
   "outputs": [
    {
     "data": {
      "text/plain": [
       "array([0.82776827, 0.93747055, 0.9573857 , 0.97289187, 0.9828769 ,\n",
       "       0.99137255, 0.99717499, 1.        ])"
      ]
     },
     "execution_count": 11,
     "metadata": {},
     "output_type": "execute_result"
    }
   ],
   "source": [
    "pca.explained_variance_ratio_.cumsum()"
   ]
  },
  {
   "cell_type": "code",
   "execution_count": 16,
   "metadata": {},
   "outputs": [],
   "source": [
    "X=pc_scores[:2]"
   ]
  },
  {
   "cell_type": "code",
   "execution_count": 9,
   "metadata": {},
   "outputs": [
    {
     "data": {
      "text/plain": [
       "Text(0.5, 0, 'pcscore')"
      ]
     },
     "execution_count": 9,
     "metadata": {},
     "output_type": "execute_result"
    },
    {
     "data": {
      "image/png": "[encoded data removed]",
      "text/plain": [
       "<Figure size 432x288 with 1 Axes>"
      ]
     },
     "metadata": {
      "needs_background": "light"
     },
     "output_type": "display_data"
    }
   ],
   "source": [
    "plt.bar(range(1,9),pca.explained_variance_)\n",
    "plt.ylabel('lambda')\n",
    "plt.xlabel('pcscore')"
   ]
  },
  {
   "cell_type": "code",
   "execution_count": null,
   "metadata": {},
   "outputs": [],
   "source": []
  }
 ],
 "metadata": {
  "kernelspec": {
   "display_name": "Python 3",
   "language": "python",
   "name": "python3"
  },
  "language_info": {
   "codemirror_mode": {
    "name": "ipython",
    "version": 3
   },
   "file_extension": ".py",
   "mimetype": "text/x-python",
   "name": "python",
   "nbconvert_exporter": "python",
   "pygments_lexer": "ipython3",
   "version": "3.8.3"
  }
 },
 "nbformat": 4,
 "nbformat_minor": 4
}
