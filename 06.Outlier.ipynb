{
 "cells": [
  {
   "cell_type": "code",
   "execution_count": 38,
   "metadata": {},
   "outputs": [
    {
     "data": {
      "text/html": [
       "<div>\n",
       "<style scoped>\n",
       "    .dataframe tbody tr th:only-of-type {\n",
       "        vertical-align: middle;\n",
       "    }\n",
       "\n",
       "    .dataframe tbody tr th {\n",
       "        vertical-align: top;\n",
       "    }\n",
       "\n",
       "    .dataframe thead th {\n",
       "        text-align: right;\n",
       "    }\n",
       "</style>\n",
       "<table border=\"1\" class=\"dataframe\">\n",
       "  <thead>\n",
       "    <tr style=\"text-align: right;\">\n",
       "      <th></th>\n",
       "      <th>Stature</th>\n",
       "      <th>Sitting Height</th>\n",
       "      <th>SHS</th>\n",
       "      <th>BMI</th>\n",
       "      <th>L11</th>\n",
       "      <th>H17</th>\n",
       "      <th>Weight</th>\n",
       "      <th>SeatX</th>\n",
       "    </tr>\n",
       "  </thead>\n",
       "  <tbody>\n",
       "    <tr>\n",
       "      <th>0</th>\n",
       "      <td>1740</td>\n",
       "      <td>931</td>\n",
       "      <td>0.535057</td>\n",
       "      <td>18.397410</td>\n",
       "      <td>-55</td>\n",
       "      <td>685</td>\n",
       "      <td>55.7</td>\n",
       "      <td>320.008170</td>\n",
       "    </tr>\n",
       "    <tr>\n",
       "      <th>1</th>\n",
       "      <td>1877</td>\n",
       "      <td>870</td>\n",
       "      <td>0.463506</td>\n",
       "      <td>22.593552</td>\n",
       "      <td>95</td>\n",
       "      <td>685</td>\n",
       "      <td>79.6</td>\n",
       "      <td>620.317771</td>\n",
       "    </tr>\n",
       "    <tr>\n",
       "      <th>2</th>\n",
       "      <td>1764</td>\n",
       "      <td>962</td>\n",
       "      <td>0.545351</td>\n",
       "      <td>22.881413</td>\n",
       "      <td>20</td>\n",
       "      <td>635</td>\n",
       "      <td>71.2</td>\n",
       "      <td>606.858170</td>\n",
       "    </tr>\n",
       "    <tr>\n",
       "      <th>3</th>\n",
       "      <td>1686</td>\n",
       "      <td>906</td>\n",
       "      <td>0.537367</td>\n",
       "      <td>29.444916</td>\n",
       "      <td>-55</td>\n",
       "      <td>685</td>\n",
       "      <td>83.7</td>\n",
       "      <td>660.937775</td>\n",
       "    </tr>\n",
       "    <tr>\n",
       "      <th>4</th>\n",
       "      <td>1786</td>\n",
       "      <td>933</td>\n",
       "      <td>0.522396</td>\n",
       "      <td>22.760076</td>\n",
       "      <td>95</td>\n",
       "      <td>685</td>\n",
       "      <td>72.6</td>\n",
       "      <td>615.836151</td>\n",
       "    </tr>\n",
       "  </tbody>\n",
       "</table>\n",
       "</div>"
      ],
      "text/plain": [
       "   Stature  Sitting Height       SHS        BMI  L11  H17  Weight       SeatX\n",
       "0     1740             931  0.535057  18.397410  -55  685    55.7  320.008170\n",
       "1     1877             870  0.463506  22.593552   95  685    79.6  620.317771\n",
       "2     1764             962  0.545351  22.881413   20  635    71.2  606.858170\n",
       "3     1686             906  0.537367  29.444916  -55  685    83.7  660.937775\n",
       "4     1786             933  0.522396  22.760076   95  685    72.6  615.836151"
      ]
     },
     "execution_count": 38,
     "metadata": {},
     "output_type": "execute_result"
    }
   ],
   "source": [
    "import seaborn as sns\n",
    "import pandas as pd\n",
    "import numpy as np\n",
    "import matplotlib.pyplot as plt\n",
    "df = pd.read_csv(\"seatdata.csv\")\n",
    "df.head()"
   ]
  },
  {
   "cell_type": "code",
   "execution_count": 2,
   "metadata": {},
   "outputs": [
    {
     "data": {
      "text/plain": [
       "<matplotlib.collections.PathCollection at 0x120a09e80>"
      ]
     },
     "execution_count": 2,
     "metadata": {},
     "output_type": "execute_result"
    },
    {
     "data": {
      "image/png": "[encoded data removed]",
      "text/plain": [
       "<Figure size 432x288 with 1 Axes>"
      ]
     },
     "metadata": {
      "needs_background": "light"
     },
     "output_type": "display_data"
    }
   ],
   "source": [
    "plt.scatter(df[\"Stature\"], df[\"SeatX\"])"
   ]
  },
  {
   "cell_type": "code",
   "execution_count": 3,
   "metadata": {},
   "outputs": [
    {
     "data": {
      "text/plain": [
       "<matplotlib.collections.PathCollection at 0x120ab1c70>"
      ]
     },
     "execution_count": 3,
     "metadata": {},
     "output_type": "execute_result"
    },
    {
     "data": {
      "image/png": "[encoded data removed]",
      "text/plain": [
       "<Figure size 432x288 with 1 Axes>"
      ]
     },
     "metadata": {
      "needs_background": "light"
     },
     "output_type": "display_data"
    }
   ],
   "source": [
    "plt.scatter(df[\"Weight\"], df[\"SeatX\"])"
   ]
  },
  {
   "cell_type": "code",
   "execution_count": 4,
   "metadata": {},
   "outputs": [
    {
     "data": {
      "text/plain": [
       "78.29598997493731"
      ]
     },
     "execution_count": 4,
     "metadata": {},
     "output_type": "execute_result"
    }
   ],
   "source": [
    "weight_mean = np.mean(df[\"Weight\"])\n",
    "seatx_mean = np.mean(df[\"SeatX\"])\n",
    "mean = (weight_mean, seatx_mean)[0]\n",
    "mean"
   ]
  },
  {
   "cell_type": "code",
   "execution_count": 5,
   "metadata": {},
   "outputs": [
    {
     "data": {
      "text/plain": [
       "(13.263953600744635, 163.25454210363296)"
      ]
     },
     "execution_count": 5,
     "metadata": {},
     "output_type": "execute_result"
    }
   ],
   "source": [
    "seatx_std = np.std(df[\"SeatX\"])\n",
    "weight_std = np.std(df[\"Weight\"])\n",
    "std = (weight_std, seatx_std)\n",
    "std"
   ]
  },
  {
   "cell_type": "code",
   "execution_count": 6,
   "metadata": {},
   "outputs": [
    {
     "data": {
      "text/html": [
       "<div>\n",
       "<style scoped>\n",
       "    .dataframe tbody tr th:only-of-type {\n",
       "        vertical-align: middle;\n",
       "    }\n",
       "\n",
       "    .dataframe tbody tr th {\n",
       "        vertical-align: top;\n",
       "    }\n",
       "\n",
       "    .dataframe thead th {\n",
       "        text-align: right;\n",
       "    }\n",
       "</style>\n",
       "<table border=\"1\" class=\"dataframe\">\n",
       "  <thead>\n",
       "    <tr style=\"text-align: right;\">\n",
       "      <th></th>\n",
       "      <th>Weight</th>\n",
       "      <th>SeatX</th>\n",
       "    </tr>\n",
       "  </thead>\n",
       "  <tbody>\n",
       "    <tr>\n",
       "      <th>std</th>\n",
       "      <td>13.280606</td>\n",
       "      <td>163.459507</td>\n",
       "    </tr>\n",
       "    <tr>\n",
       "      <th>mean</th>\n",
       "      <td>78.295990</td>\n",
       "      <td>734.188688</td>\n",
       "    </tr>\n",
       "  </tbody>\n",
       "</table>\n",
       "</div>"
      ],
      "text/plain": [
       "         Weight       SeatX\n",
       "std   13.280606  163.459507\n",
       "mean  78.295990  734.188688"
      ]
     },
     "execution_count": 6,
     "metadata": {},
     "output_type": "execute_result"
    }
   ],
   "source": [
    "df_new=df[[\"Weight\",\"SeatX\"]]\n",
    "df_new.agg([np.std,np.mean])"
   ]
  },
  {
   "cell_type": "code",
   "execution_count": 7,
   "metadata": {},
   "outputs": [
    {
     "data": {
      "text/html": [
       "<div>\n",
       "<style scoped>\n",
       "    .dataframe tbody tr th:only-of-type {\n",
       "        vertical-align: middle;\n",
       "    }\n",
       "\n",
       "    .dataframe tbody tr th {\n",
       "        vertical-align: top;\n",
       "    }\n",
       "\n",
       "    .dataframe thead th {\n",
       "        text-align: right;\n",
       "    }\n",
       "</style>\n",
       "<table border=\"1\" class=\"dataframe\">\n",
       "  <thead>\n",
       "    <tr style=\"text-align: right;\">\n",
       "      <th></th>\n",
       "      <th>Weight</th>\n",
       "      <th>SeatX</th>\n",
       "    </tr>\n",
       "  </thead>\n",
       "  <tbody>\n",
       "    <tr>\n",
       "      <th>std</th>\n",
       "      <td>13.280606</td>\n",
       "      <td>163.459507</td>\n",
       "    </tr>\n",
       "    <tr>\n",
       "      <th>mean</th>\n",
       "      <td>78.295990</td>\n",
       "      <td>734.188688</td>\n",
       "    </tr>\n",
       "  </tbody>\n",
       "</table>\n",
       "</div>"
      ],
      "text/plain": [
       "         Weight       SeatX\n",
       "std   13.280606  163.459507\n",
       "mean  78.295990  734.188688"
      ]
     },
     "execution_count": 7,
     "metadata": {},
     "output_type": "execute_result"
    }
   ],
   "source": [
    "df[[\"Weight\",\"SeatX\"]].agg([np.std,np.mean])"
   ]
  },
  {
   "cell_type": "code",
   "execution_count": 8,
   "metadata": {},
   "outputs": [
    {
     "data": {
      "text/plain": [
       "False"
      ]
     },
     "execution_count": 8,
     "metadata": {},
     "output_type": "execute_result"
    }
   ],
   "source": [
    "df.loc[(df[\"Weight\"] < 50) & (df[\"SeatX\"] < 400), [\"Weight\", \"SeatX\"]]\n",
    "\n",
    "obs1 = df.loc[222, [\"Weight\", \"SeatX\"]].values\n",
    "obs2 = df.loc[343, [\"Weight\", \"SeatX\"]].values\n",
    "mean = np.array(mean)\n",
    "distance1 = np.sqrt(np.sum((mean - obs1) ** 2))\n",
    "std = np.array(std)\n",
    "std_norm = np.sqrt(np.sum(std ** 2))\n",
    "3 * std_norm < distance1"
   ]
  },
  {
   "cell_type": "markdown",
   "metadata": {},
   "source": [
    "# Z Score"
   ]
  },
  {
   "cell_type": "code",
   "execution_count": 17,
   "metadata": {},
   "outputs": [],
   "source": [
    "df['zscore']=(df[\"Weight\"]-df[\"Weight\"].mean())/df[\"Weight\"].std()"
   ]
  },
  {
   "cell_type": "code",
   "execution_count": 18,
   "metadata": {},
   "outputs": [
    {
     "data": {
      "text/html": [
       "<div>\n",
       "<style scoped>\n",
       "    .dataframe tbody tr th:only-of-type {\n",
       "        vertical-align: middle;\n",
       "    }\n",
       "\n",
       "    .dataframe tbody tr th {\n",
       "        vertical-align: top;\n",
       "    }\n",
       "\n",
       "    .dataframe thead th {\n",
       "        text-align: right;\n",
       "    }\n",
       "</style>\n",
       "<table border=\"1\" class=\"dataframe\">\n",
       "  <thead>\n",
       "    <tr style=\"text-align: right;\">\n",
       "      <th></th>\n",
       "      <th>Stature</th>\n",
       "      <th>Sitting Height</th>\n",
       "      <th>SHS</th>\n",
       "      <th>BMI</th>\n",
       "      <th>L11</th>\n",
       "      <th>H17</th>\n",
       "      <th>Weight</th>\n",
       "      <th>SeatX</th>\n",
       "      <th>zscore</th>\n",
       "    </tr>\n",
       "  </thead>\n",
       "  <tbody>\n",
       "    <tr>\n",
       "      <th>222</th>\n",
       "      <td>1712</td>\n",
       "      <td>915</td>\n",
       "      <td>0.534463</td>\n",
       "      <td>11.668596</td>\n",
       "      <td>20</td>\n",
       "      <td>635</td>\n",
       "      <td>34.2</td>\n",
       "      <td>236.141543</td>\n",
       "      <td>-3.32033</td>\n",
       "    </tr>\n",
       "  </tbody>\n",
       "</table>\n",
       "</div>"
      ],
      "text/plain": [
       "     Stature  Sitting Height       SHS        BMI  L11  H17  Weight  \\\n",
       "222     1712             915  0.534463  11.668596   20  635    34.2   \n",
       "\n",
       "          SeatX   zscore  \n",
       "222  236.141543 -3.32033  "
      ]
     },
     "execution_count": 18,
     "metadata": {},
     "output_type": "execute_result"
    }
   ],
   "source": [
    "threshold=3\n",
    "outlier = df[(df['zscore']<-(threshold))|(df['zscore']>threshold)]"
   ]
  },
  {
   "cell_type": "code",
   "execution_count": 20,
   "metadata": {},
   "outputs": [
    {
     "data": {
      "text/html": [
       "<div>\n",
       "<style scoped>\n",
       "    .dataframe tbody tr th:only-of-type {\n",
       "        vertical-align: middle;\n",
       "    }\n",
       "\n",
       "    .dataframe tbody tr th {\n",
       "        vertical-align: top;\n",
       "    }\n",
       "\n",
       "    .dataframe thead th {\n",
       "        text-align: right;\n",
       "    }\n",
       "</style>\n",
       "<table border=\"1\" class=\"dataframe\">\n",
       "  <thead>\n",
       "    <tr style=\"text-align: right;\">\n",
       "      <th></th>\n",
       "      <th>Stature</th>\n",
       "      <th>Sitting Height</th>\n",
       "      <th>SHS</th>\n",
       "      <th>BMI</th>\n",
       "      <th>L11</th>\n",
       "      <th>H17</th>\n",
       "      <th>Weight</th>\n",
       "      <th>SeatX</th>\n",
       "      <th>zscore</th>\n",
       "    </tr>\n",
       "  </thead>\n",
       "  <tbody>\n",
       "    <tr>\n",
       "      <th>0</th>\n",
       "      <td>1740</td>\n",
       "      <td>931</td>\n",
       "      <td>0.535057</td>\n",
       "      <td>18.397410</td>\n",
       "      <td>-55</td>\n",
       "      <td>685</td>\n",
       "      <td>55.7</td>\n",
       "      <td>320.008170</td>\n",
       "      <td>-1.701428</td>\n",
       "    </tr>\n",
       "    <tr>\n",
       "      <th>1</th>\n",
       "      <td>1877</td>\n",
       "      <td>870</td>\n",
       "      <td>0.463506</td>\n",
       "      <td>22.593552</td>\n",
       "      <td>95</td>\n",
       "      <td>685</td>\n",
       "      <td>79.6</td>\n",
       "      <td>620.317771</td>\n",
       "      <td>0.098189</td>\n",
       "    </tr>\n",
       "    <tr>\n",
       "      <th>2</th>\n",
       "      <td>1764</td>\n",
       "      <td>962</td>\n",
       "      <td>0.545351</td>\n",
       "      <td>22.881413</td>\n",
       "      <td>20</td>\n",
       "      <td>635</td>\n",
       "      <td>71.2</td>\n",
       "      <td>606.858170</td>\n",
       "      <td>-0.534312</td>\n",
       "    </tr>\n",
       "    <tr>\n",
       "      <th>3</th>\n",
       "      <td>1686</td>\n",
       "      <td>906</td>\n",
       "      <td>0.537367</td>\n",
       "      <td>29.444916</td>\n",
       "      <td>-55</td>\n",
       "      <td>685</td>\n",
       "      <td>83.7</td>\n",
       "      <td>660.937775</td>\n",
       "      <td>0.406910</td>\n",
       "    </tr>\n",
       "    <tr>\n",
       "      <th>4</th>\n",
       "      <td>1786</td>\n",
       "      <td>933</td>\n",
       "      <td>0.522396</td>\n",
       "      <td>22.760076</td>\n",
       "      <td>95</td>\n",
       "      <td>685</td>\n",
       "      <td>72.6</td>\n",
       "      <td>615.836151</td>\n",
       "      <td>-0.428895</td>\n",
       "    </tr>\n",
       "    <tr>\n",
       "      <th>...</th>\n",
       "      <td>...</td>\n",
       "      <td>...</td>\n",
       "      <td>...</td>\n",
       "      <td>...</td>\n",
       "      <td>...</td>\n",
       "      <td>...</td>\n",
       "      <td>...</td>\n",
       "      <td>...</td>\n",
       "      <td>...</td>\n",
       "    </tr>\n",
       "    <tr>\n",
       "      <th>394</th>\n",
       "      <td>1626</td>\n",
       "      <td>979</td>\n",
       "      <td>0.602091</td>\n",
       "      <td>38.012373</td>\n",
       "      <td>20</td>\n",
       "      <td>635</td>\n",
       "      <td>100.5</td>\n",
       "      <td>1015.796173</td>\n",
       "      <td>1.671912</td>\n",
       "    </tr>\n",
       "    <tr>\n",
       "      <th>395</th>\n",
       "      <td>1736</td>\n",
       "      <td>892</td>\n",
       "      <td>0.513825</td>\n",
       "      <td>30.626845</td>\n",
       "      <td>-55</td>\n",
       "      <td>685</td>\n",
       "      <td>92.3</td>\n",
       "      <td>814.620340</td>\n",
       "      <td>1.054471</td>\n",
       "    </tr>\n",
       "    <tr>\n",
       "      <th>396</th>\n",
       "      <td>1870</td>\n",
       "      <td>892</td>\n",
       "      <td>0.477005</td>\n",
       "      <td>25.880065</td>\n",
       "      <td>95</td>\n",
       "      <td>685</td>\n",
       "      <td>90.5</td>\n",
       "      <td>705.289026</td>\n",
       "      <td>0.918935</td>\n",
       "    </tr>\n",
       "    <tr>\n",
       "      <th>397</th>\n",
       "      <td>1717</td>\n",
       "      <td>865</td>\n",
       "      <td>0.503786</td>\n",
       "      <td>21.064493</td>\n",
       "      <td>20</td>\n",
       "      <td>635</td>\n",
       "      <td>62.1</td>\n",
       "      <td>599.792224</td>\n",
       "      <td>-1.219522</td>\n",
       "    </tr>\n",
       "    <tr>\n",
       "      <th>398</th>\n",
       "      <td>1829</td>\n",
       "      <td>926</td>\n",
       "      <td>0.506288</td>\n",
       "      <td>21.941618</td>\n",
       "      <td>-55</td>\n",
       "      <td>585</td>\n",
       "      <td>73.4</td>\n",
       "      <td>688.380929</td>\n",
       "      <td>-0.368657</td>\n",
       "    </tr>\n",
       "  </tbody>\n",
       "</table>\n",
       "<p>398 rows × 9 columns</p>\n",
       "</div>"
      ],
      "text/plain": [
       "     Stature  Sitting Height       SHS        BMI  L11  H17  Weight  \\\n",
       "0       1740             931  0.535057  18.397410  -55  685    55.7   \n",
       "1       1877             870  0.463506  22.593552   95  685    79.6   \n",
       "2       1764             962  0.545351  22.881413   20  635    71.2   \n",
       "3       1686             906  0.537367  29.444916  -55  685    83.7   \n",
       "4       1786             933  0.522396  22.760076   95  685    72.6   \n",
       "..       ...             ...       ...        ...  ...  ...     ...   \n",
       "394     1626             979  0.602091  38.012373   20  635   100.5   \n",
       "395     1736             892  0.513825  30.626845  -55  685    92.3   \n",
       "396     1870             892  0.477005  25.880065   95  685    90.5   \n",
       "397     1717             865  0.503786  21.064493   20  635    62.1   \n",
       "398     1829             926  0.506288  21.941618  -55  585    73.4   \n",
       "\n",
       "           SeatX    zscore  \n",
       "0     320.008170 -1.701428  \n",
       "1     620.317771  0.098189  \n",
       "2     606.858170 -0.534312  \n",
       "3     660.937775  0.406910  \n",
       "4     615.836151 -0.428895  \n",
       "..           ...       ...  \n",
       "394  1015.796173  1.671912  \n",
       "395   814.620340  1.054471  \n",
       "396   705.289026  0.918935  \n",
       "397   599.792224 -1.219522  \n",
       "398   688.380929 -0.368657  \n",
       "\n",
       "[398 rows x 9 columns]"
      ]
     },
     "execution_count": 20,
     "metadata": {},
     "output_type": "execute_result"
    }
   ],
   "source": [
    "df_no_outlier=df[(df['zscore'] > -(threshold)) & (df['zscore'] < threshold)]\n",
    "df_no_outlier"
   ]
  },
  {
   "cell_type": "code",
   "execution_count": 21,
   "metadata": {},
   "outputs": [
    {
     "data": {
      "text/plain": [
       "1"
      ]
     },
     "execution_count": 21,
     "metadata": {},
     "output_type": "execute_result"
    }
   ],
   "source": [
    "df.shape[0]-df_no_outlier.shape[0]"
   ]
  },
  {
   "cell_type": "code",
   "execution_count": 23,
   "metadata": {},
   "outputs": [
    {
     "data": {
      "text/plain": [
       "(399, 9)"
      ]
     },
     "execution_count": 23,
     "metadata": {},
     "output_type": "execute_result"
    }
   ],
   "source": [
    "df.shape"
   ]
  },
  {
   "cell_type": "code",
   "execution_count": 24,
   "metadata": {},
   "outputs": [
    {
     "data": {
      "text/plain": [
       "(398, 9)"
      ]
     },
     "execution_count": 24,
     "metadata": {},
     "output_type": "execute_result"
    }
   ],
   "source": [
    "df_no_outlier.shape"
   ]
  },
  {
   "cell_type": "markdown",
   "metadata": {},
   "source": [
    "# IQR"
   ]
  },
  {
   "cell_type": "code",
   "execution_count": 28,
   "metadata": {},
   "outputs": [],
   "source": [
    "Q1 = df ['Weight'] . quantile (0.25)\n",
    "Q3 = df ['Weight'] . quantile (0.75)\n",
    "IQR = Q3 - Q1\n",
    "lower_limit = Q1 - 1.5 * IQR\n",
    "upper_limit = Q3 + 1.5 * IQR"
   ]
  },
  {
   "cell_type": "code",
   "execution_count": 29,
   "metadata": {},
   "outputs": [
    {
     "data": {
      "text/html": [
       "<div>\n",
       "<style scoped>\n",
       "    .dataframe tbody tr th:only-of-type {\n",
       "        vertical-align: middle;\n",
       "    }\n",
       "\n",
       "    .dataframe tbody tr th {\n",
       "        vertical-align: top;\n",
       "    }\n",
       "\n",
       "    .dataframe thead th {\n",
       "        text-align: right;\n",
       "    }\n",
       "</style>\n",
       "<table border=\"1\" class=\"dataframe\">\n",
       "  <thead>\n",
       "    <tr style=\"text-align: right;\">\n",
       "      <th></th>\n",
       "      <th>Stature</th>\n",
       "      <th>Sitting Height</th>\n",
       "      <th>SHS</th>\n",
       "      <th>BMI</th>\n",
       "      <th>L11</th>\n",
       "      <th>H17</th>\n",
       "      <th>Weight</th>\n",
       "      <th>SeatX</th>\n",
       "      <th>zscore</th>\n",
       "    </tr>\n",
       "  </thead>\n",
       "  <tbody>\n",
       "    <tr>\n",
       "      <th>222</th>\n",
       "      <td>1712</td>\n",
       "      <td>915</td>\n",
       "      <td>0.534463</td>\n",
       "      <td>11.668596</td>\n",
       "      <td>20</td>\n",
       "      <td>635</td>\n",
       "      <td>34.2</td>\n",
       "      <td>236.141543</td>\n",
       "      <td>-3.320330</td>\n",
       "    </tr>\n",
       "    <tr>\n",
       "      <th>343</th>\n",
       "      <td>1770</td>\n",
       "      <td>873</td>\n",
       "      <td>0.493220</td>\n",
       "      <td>13.214594</td>\n",
       "      <td>-55</td>\n",
       "      <td>685</td>\n",
       "      <td>41.4</td>\n",
       "      <td>267.703836</td>\n",
       "      <td>-2.778186</td>\n",
       "    </tr>\n",
       "  </tbody>\n",
       "</table>\n",
       "</div>"
      ],
      "text/plain": [
       "     Stature  Sitting Height       SHS        BMI  L11  H17  Weight  \\\n",
       "222     1712             915  0.534463  11.668596   20  635    34.2   \n",
       "343     1770             873  0.493220  13.214594  -55  685    41.4   \n",
       "\n",
       "          SeatX    zscore  \n",
       "222  236.141543 -3.320330  \n",
       "343  267.703836 -2.778186  "
      ]
     },
     "execution_count": 29,
     "metadata": {},
     "output_type": "execute_result"
    }
   ],
   "source": [
    "outlier = df[(df ['Weight'] < lower_limit) | (df ['Weight'] > upper_limit)]\n",
    "outlier"
   ]
  },
  {
   "cell_type": "code",
   "execution_count": 30,
   "metadata": {},
   "outputs": [
    {
     "data": {
      "text/html": [
       "<div>\n",
       "<style scoped>\n",
       "    .dataframe tbody tr th:only-of-type {\n",
       "        vertical-align: middle;\n",
       "    }\n",
       "\n",
       "    .dataframe tbody tr th {\n",
       "        vertical-align: top;\n",
       "    }\n",
       "\n",
       "    .dataframe thead th {\n",
       "        text-align: right;\n",
       "    }\n",
       "</style>\n",
       "<table border=\"1\" class=\"dataframe\">\n",
       "  <thead>\n",
       "    <tr style=\"text-align: right;\">\n",
       "      <th></th>\n",
       "      <th>Stature</th>\n",
       "      <th>Sitting Height</th>\n",
       "      <th>SHS</th>\n",
       "      <th>BMI</th>\n",
       "      <th>L11</th>\n",
       "      <th>H17</th>\n",
       "      <th>Weight</th>\n",
       "      <th>SeatX</th>\n",
       "      <th>zscore</th>\n",
       "    </tr>\n",
       "  </thead>\n",
       "  <tbody>\n",
       "    <tr>\n",
       "      <th>0</th>\n",
       "      <td>1740</td>\n",
       "      <td>931</td>\n",
       "      <td>0.535057</td>\n",
       "      <td>18.397410</td>\n",
       "      <td>-55</td>\n",
       "      <td>685</td>\n",
       "      <td>55.7</td>\n",
       "      <td>320.008170</td>\n",
       "      <td>-1.701428</td>\n",
       "    </tr>\n",
       "    <tr>\n",
       "      <th>1</th>\n",
       "      <td>1877</td>\n",
       "      <td>870</td>\n",
       "      <td>0.463506</td>\n",
       "      <td>22.593552</td>\n",
       "      <td>95</td>\n",
       "      <td>685</td>\n",
       "      <td>79.6</td>\n",
       "      <td>620.317771</td>\n",
       "      <td>0.098189</td>\n",
       "    </tr>\n",
       "    <tr>\n",
       "      <th>2</th>\n",
       "      <td>1764</td>\n",
       "      <td>962</td>\n",
       "      <td>0.545351</td>\n",
       "      <td>22.881413</td>\n",
       "      <td>20</td>\n",
       "      <td>635</td>\n",
       "      <td>71.2</td>\n",
       "      <td>606.858170</td>\n",
       "      <td>-0.534312</td>\n",
       "    </tr>\n",
       "    <tr>\n",
       "      <th>3</th>\n",
       "      <td>1686</td>\n",
       "      <td>906</td>\n",
       "      <td>0.537367</td>\n",
       "      <td>29.444916</td>\n",
       "      <td>-55</td>\n",
       "      <td>685</td>\n",
       "      <td>83.7</td>\n",
       "      <td>660.937775</td>\n",
       "      <td>0.406910</td>\n",
       "    </tr>\n",
       "    <tr>\n",
       "      <th>4</th>\n",
       "      <td>1786</td>\n",
       "      <td>933</td>\n",
       "      <td>0.522396</td>\n",
       "      <td>22.760076</td>\n",
       "      <td>95</td>\n",
       "      <td>685</td>\n",
       "      <td>72.6</td>\n",
       "      <td>615.836151</td>\n",
       "      <td>-0.428895</td>\n",
       "    </tr>\n",
       "    <tr>\n",
       "      <th>...</th>\n",
       "      <td>...</td>\n",
       "      <td>...</td>\n",
       "      <td>...</td>\n",
       "      <td>...</td>\n",
       "      <td>...</td>\n",
       "      <td>...</td>\n",
       "      <td>...</td>\n",
       "      <td>...</td>\n",
       "      <td>...</td>\n",
       "    </tr>\n",
       "    <tr>\n",
       "      <th>394</th>\n",
       "      <td>1626</td>\n",
       "      <td>979</td>\n",
       "      <td>0.602091</td>\n",
       "      <td>38.012373</td>\n",
       "      <td>20</td>\n",
       "      <td>635</td>\n",
       "      <td>100.5</td>\n",
       "      <td>1015.796173</td>\n",
       "      <td>1.671912</td>\n",
       "    </tr>\n",
       "    <tr>\n",
       "      <th>395</th>\n",
       "      <td>1736</td>\n",
       "      <td>892</td>\n",
       "      <td>0.513825</td>\n",
       "      <td>30.626845</td>\n",
       "      <td>-55</td>\n",
       "      <td>685</td>\n",
       "      <td>92.3</td>\n",
       "      <td>814.620340</td>\n",
       "      <td>1.054471</td>\n",
       "    </tr>\n",
       "    <tr>\n",
       "      <th>396</th>\n",
       "      <td>1870</td>\n",
       "      <td>892</td>\n",
       "      <td>0.477005</td>\n",
       "      <td>25.880065</td>\n",
       "      <td>95</td>\n",
       "      <td>685</td>\n",
       "      <td>90.5</td>\n",
       "      <td>705.289026</td>\n",
       "      <td>0.918935</td>\n",
       "    </tr>\n",
       "    <tr>\n",
       "      <th>397</th>\n",
       "      <td>1717</td>\n",
       "      <td>865</td>\n",
       "      <td>0.503786</td>\n",
       "      <td>21.064493</td>\n",
       "      <td>20</td>\n",
       "      <td>635</td>\n",
       "      <td>62.1</td>\n",
       "      <td>599.792224</td>\n",
       "      <td>-1.219522</td>\n",
       "    </tr>\n",
       "    <tr>\n",
       "      <th>398</th>\n",
       "      <td>1829</td>\n",
       "      <td>926</td>\n",
       "      <td>0.506288</td>\n",
       "      <td>21.941618</td>\n",
       "      <td>-55</td>\n",
       "      <td>585</td>\n",
       "      <td>73.4</td>\n",
       "      <td>688.380929</td>\n",
       "      <td>-0.368657</td>\n",
       "    </tr>\n",
       "  </tbody>\n",
       "</table>\n",
       "<p>397 rows × 9 columns</p>\n",
       "</div>"
      ],
      "text/plain": [
       "     Stature  Sitting Height       SHS        BMI  L11  H17  Weight  \\\n",
       "0       1740             931  0.535057  18.397410  -55  685    55.7   \n",
       "1       1877             870  0.463506  22.593552   95  685    79.6   \n",
       "2       1764             962  0.545351  22.881413   20  635    71.2   \n",
       "3       1686             906  0.537367  29.444916  -55  685    83.7   \n",
       "4       1786             933  0.522396  22.760076   95  685    72.6   \n",
       "..       ...             ...       ...        ...  ...  ...     ...   \n",
       "394     1626             979  0.602091  38.012373   20  635   100.5   \n",
       "395     1736             892  0.513825  30.626845  -55  685    92.3   \n",
       "396     1870             892  0.477005  25.880065   95  685    90.5   \n",
       "397     1717             865  0.503786  21.064493   20  635    62.1   \n",
       "398     1829             926  0.506288  21.941618  -55  585    73.4   \n",
       "\n",
       "           SeatX    zscore  \n",
       "0     320.008170 -1.701428  \n",
       "1     620.317771  0.098189  \n",
       "2     606.858170 -0.534312  \n",
       "3     660.937775  0.406910  \n",
       "4     615.836151 -0.428895  \n",
       "..           ...       ...  \n",
       "394  1015.796173  1.671912  \n",
       "395   814.620340  1.054471  \n",
       "396   705.289026  0.918935  \n",
       "397   599.792224 -1.219522  \n",
       "398   688.380929 -0.368657  \n",
       "\n",
       "[397 rows x 9 columns]"
      ]
     },
     "execution_count": 30,
     "metadata": {},
     "output_type": "execute_result"
    }
   ],
   "source": [
    "df_no_outlier = df[(df ['Weight'] > lower_limit) & (df ['Weight'] < upper_limit)]\n",
    "df_no_outlier"
   ]
  },
  {
   "cell_type": "code",
   "execution_count": 31,
   "metadata": {},
   "outputs": [
    {
     "data": {
      "text/plain": [
       "2"
      ]
     },
     "execution_count": 31,
     "metadata": {},
     "output_type": "execute_result"
    }
   ],
   "source": [
    "df.shape[0]-df_no_outlier.shape[0]"
   ]
  },
  {
   "cell_type": "markdown",
   "metadata": {},
   "source": [
    "# mu < 3 sigma"
   ]
  },
  {
   "cell_type": "code",
   "execution_count": 40,
   "metadata": {},
   "outputs": [],
   "source": [
    "lower_limit = (df['Weight'].mean()) - (3 * df['Weight'].std())\n",
    "upper_limit = (df['Weight'].mean()) + (3 * df['Weight'].std())"
   ]
  },
  {
   "cell_type": "code",
   "execution_count": 41,
   "metadata": {},
   "outputs": [
    {
     "data": {
      "text/html": [
       "<div>\n",
       "<style scoped>\n",
       "    .dataframe tbody tr th:only-of-type {\n",
       "        vertical-align: middle;\n",
       "    }\n",
       "\n",
       "    .dataframe tbody tr th {\n",
       "        vertical-align: top;\n",
       "    }\n",
       "\n",
       "    .dataframe thead th {\n",
       "        text-align: right;\n",
       "    }\n",
       "</style>\n",
       "<table border=\"1\" class=\"dataframe\">\n",
       "  <thead>\n",
       "    <tr style=\"text-align: right;\">\n",
       "      <th></th>\n",
       "      <th>Stature</th>\n",
       "      <th>Sitting Height</th>\n",
       "      <th>SHS</th>\n",
       "      <th>BMI</th>\n",
       "      <th>L11</th>\n",
       "      <th>H17</th>\n",
       "      <th>Weight</th>\n",
       "      <th>SeatX</th>\n",
       "    </tr>\n",
       "  </thead>\n",
       "  <tbody>\n",
       "    <tr>\n",
       "      <th>222</th>\n",
       "      <td>1712</td>\n",
       "      <td>915</td>\n",
       "      <td>0.534463</td>\n",
       "      <td>11.668596</td>\n",
       "      <td>20</td>\n",
       "      <td>635</td>\n",
       "      <td>34.2</td>\n",
       "      <td>236.141543</td>\n",
       "    </tr>\n",
       "  </tbody>\n",
       "</table>\n",
       "</div>"
      ],
      "text/plain": [
       "     Stature  Sitting Height       SHS        BMI  L11  H17  Weight  \\\n",
       "222     1712             915  0.534463  11.668596   20  635    34.2   \n",
       "\n",
       "          SeatX  \n",
       "222  236.141543  "
      ]
     },
     "execution_count": 41,
     "metadata": {},
     "output_type": "execute_result"
    }
   ],
   "source": [
    "outlier = df[(df ['Weight'] < lower_limit) | (df ['Weight'] > upper_limit)]\n",
    "outlier"
   ]
  },
  {
   "cell_type": "code",
   "execution_count": 42,
   "metadata": {},
   "outputs": [
    {
     "data": {
      "text/html": [
       "<div>\n",
       "<style scoped>\n",
       "    .dataframe tbody tr th:only-of-type {\n",
       "        vertical-align: middle;\n",
       "    }\n",
       "\n",
       "    .dataframe tbody tr th {\n",
       "        vertical-align: top;\n",
       "    }\n",
       "\n",
       "    .dataframe thead th {\n",
       "        text-align: right;\n",
       "    }\n",
       "</style>\n",
       "<table border=\"1\" class=\"dataframe\">\n",
       "  <thead>\n",
       "    <tr style=\"text-align: right;\">\n",
       "      <th></th>\n",
       "      <th>Stature</th>\n",
       "      <th>Sitting Height</th>\n",
       "      <th>SHS</th>\n",
       "      <th>BMI</th>\n",
       "      <th>L11</th>\n",
       "      <th>H17</th>\n",
       "      <th>Weight</th>\n",
       "      <th>SeatX</th>\n",
       "    </tr>\n",
       "  </thead>\n",
       "  <tbody>\n",
       "    <tr>\n",
       "      <th>0</th>\n",
       "      <td>1740</td>\n",
       "      <td>931</td>\n",
       "      <td>0.535057</td>\n",
       "      <td>18.397410</td>\n",
       "      <td>-55</td>\n",
       "      <td>685</td>\n",
       "      <td>55.7</td>\n",
       "      <td>320.008170</td>\n",
       "    </tr>\n",
       "    <tr>\n",
       "      <th>1</th>\n",
       "      <td>1877</td>\n",
       "      <td>870</td>\n",
       "      <td>0.463506</td>\n",
       "      <td>22.593552</td>\n",
       "      <td>95</td>\n",
       "      <td>685</td>\n",
       "      <td>79.6</td>\n",
       "      <td>620.317771</td>\n",
       "    </tr>\n",
       "    <tr>\n",
       "      <th>2</th>\n",
       "      <td>1764</td>\n",
       "      <td>962</td>\n",
       "      <td>0.545351</td>\n",
       "      <td>22.881413</td>\n",
       "      <td>20</td>\n",
       "      <td>635</td>\n",
       "      <td>71.2</td>\n",
       "      <td>606.858170</td>\n",
       "    </tr>\n",
       "    <tr>\n",
       "      <th>3</th>\n",
       "      <td>1686</td>\n",
       "      <td>906</td>\n",
       "      <td>0.537367</td>\n",
       "      <td>29.444916</td>\n",
       "      <td>-55</td>\n",
       "      <td>685</td>\n",
       "      <td>83.7</td>\n",
       "      <td>660.937775</td>\n",
       "    </tr>\n",
       "    <tr>\n",
       "      <th>4</th>\n",
       "      <td>1786</td>\n",
       "      <td>933</td>\n",
       "      <td>0.522396</td>\n",
       "      <td>22.760076</td>\n",
       "      <td>95</td>\n",
       "      <td>685</td>\n",
       "      <td>72.6</td>\n",
       "      <td>615.836151</td>\n",
       "    </tr>\n",
       "    <tr>\n",
       "      <th>...</th>\n",
       "      <td>...</td>\n",
       "      <td>...</td>\n",
       "      <td>...</td>\n",
       "      <td>...</td>\n",
       "      <td>...</td>\n",
       "      <td>...</td>\n",
       "      <td>...</td>\n",
       "      <td>...</td>\n",
       "    </tr>\n",
       "    <tr>\n",
       "      <th>394</th>\n",
       "      <td>1626</td>\n",
       "      <td>979</td>\n",
       "      <td>0.602091</td>\n",
       "      <td>38.012373</td>\n",
       "      <td>20</td>\n",
       "      <td>635</td>\n",
       "      <td>100.5</td>\n",
       "      <td>1015.796173</td>\n",
       "    </tr>\n",
       "    <tr>\n",
       "      <th>395</th>\n",
       "      <td>1736</td>\n",
       "      <td>892</td>\n",
       "      <td>0.513825</td>\n",
       "      <td>30.626845</td>\n",
       "      <td>-55</td>\n",
       "      <td>685</td>\n",
       "      <td>92.3</td>\n",
       "      <td>814.620340</td>\n",
       "    </tr>\n",
       "    <tr>\n",
       "      <th>396</th>\n",
       "      <td>1870</td>\n",
       "      <td>892</td>\n",
       "      <td>0.477005</td>\n",
       "      <td>25.880065</td>\n",
       "      <td>95</td>\n",
       "      <td>685</td>\n",
       "      <td>90.5</td>\n",
       "      <td>705.289026</td>\n",
       "    </tr>\n",
       "    <tr>\n",
       "      <th>397</th>\n",
       "      <td>1717</td>\n",
       "      <td>865</td>\n",
       "      <td>0.503786</td>\n",
       "      <td>21.064493</td>\n",
       "      <td>20</td>\n",
       "      <td>635</td>\n",
       "      <td>62.1</td>\n",
       "      <td>599.792224</td>\n",
       "    </tr>\n",
       "    <tr>\n",
       "      <th>398</th>\n",
       "      <td>1829</td>\n",
       "      <td>926</td>\n",
       "      <td>0.506288</td>\n",
       "      <td>21.941618</td>\n",
       "      <td>-55</td>\n",
       "      <td>585</td>\n",
       "      <td>73.4</td>\n",
       "      <td>688.380929</td>\n",
       "    </tr>\n",
       "  </tbody>\n",
       "</table>\n",
       "<p>398 rows × 8 columns</p>\n",
       "</div>"
      ],
      "text/plain": [
       "     Stature  Sitting Height       SHS        BMI  L11  H17  Weight  \\\n",
       "0       1740             931  0.535057  18.397410  -55  685    55.7   \n",
       "1       1877             870  0.463506  22.593552   95  685    79.6   \n",
       "2       1764             962  0.545351  22.881413   20  635    71.2   \n",
       "3       1686             906  0.537367  29.444916  -55  685    83.7   \n",
       "4       1786             933  0.522396  22.760076   95  685    72.6   \n",
       "..       ...             ...       ...        ...  ...  ...     ...   \n",
       "394     1626             979  0.602091  38.012373   20  635   100.5   \n",
       "395     1736             892  0.513825  30.626845  -55  685    92.3   \n",
       "396     1870             892  0.477005  25.880065   95  685    90.5   \n",
       "397     1717             865  0.503786  21.064493   20  635    62.1   \n",
       "398     1829             926  0.506288  21.941618  -55  585    73.4   \n",
       "\n",
       "           SeatX  \n",
       "0     320.008170  \n",
       "1     620.317771  \n",
       "2     606.858170  \n",
       "3     660.937775  \n",
       "4     615.836151  \n",
       "..           ...  \n",
       "394  1015.796173  \n",
       "395   814.620340  \n",
       "396   705.289026  \n",
       "397   599.792224  \n",
       "398   688.380929  \n",
       "\n",
       "[398 rows x 8 columns]"
      ]
     },
     "execution_count": 42,
     "metadata": {},
     "output_type": "execute_result"
    }
   ],
   "source": [
    "df_no_outlier = df[(df ['Weight'] > lower_limit) & (df ['Weight'] < upper_limit)]\n",
    "df_no_outlier"
   ]
  },
  {
   "cell_type": "code",
   "execution_count": null,
   "metadata": {},
   "outputs": [],
   "source": []
  }
 ],
 "metadata": {
  "kernelspec": {
   "display_name": "Python 3",
   "language": "python",
   "name": "python3"
  },
  "language_info": {
   "codemirror_mode": {
    "name": "ipython",
    "version": 3
   },
   "file_extension": ".py",
   "mimetype": "text/x-python",
   "name": "python",
   "nbconvert_exporter": "python",
   "pygments_lexer": "ipython3",
   "version": "3.8.3"
  }
 },
 "nbformat": 4,
 "nbformat_minor": 4
}
